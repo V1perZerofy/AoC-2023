{
 "cells": [
  {
   "cell_type": "code",
   "execution_count": 249,
   "id": "34448c0a",
   "metadata": {},
   "outputs": [],
   "source": [
    "with open(\"input/input3.txt\") as f:\n",
    "        lines = f.readlines()\n",
    "        #lines = [x.strip() for x in lines]\n",
    "        f.close()\n",
    "        \n",
    "import re"
   ]
  },
  {
   "cell_type": "code",
   "execution_count": 250,
   "id": "98b313ff",
   "metadata": {},
   "outputs": [],
   "source": [
    "def is_valid_pos(i, j, arr):\n",
    "    return 0 <= i < len(arr) and 0 <= j < len(arr[0])\n",
    "\n",
    "def check_is_part(arr, i, j, length):\n",
    "    directions = [(1, -1), (1, 0), (1, 1), (0, 1), (-1, 1), (-1, 0), (-1, -1), (0, -1)]\n",
    "    neighbors = ''\n",
    "    for temp in range(length):\n",
    "        for di, dj in directions:\n",
    "            newi, newj = i + di, j + dj\n",
    "            if is_valid_pos(newi, newj, arr):\n",
    "                neighbors += arr[newi][newj]\n",
    "        j += 1\n",
    "    x = re.findall(r\"[^a-zA-Z.0-9\\n]+\", neighbors)\n",
    "    if x:\n",
    "        #print(neighbors)\n",
    "        #print(x)\n",
    "        return True\n",
    "    else:\n",
    "        return False"
   ]
  },
  {
   "cell_type": "code",
   "execution_count": 251,
   "id": "b90f5713",
   "metadata": {},
   "outputs": [],
   "source": [
    "num = ''\n",
    "endres = []\n",
    "for i in range(len(lines)):\n",
    "    for j in range(len(lines[i])):\n",
    "        if lines[i][j].isnumeric():\n",
    "            num += lines[i][j]\n",
    "        else:\n",
    "            if 1 <= len(num) <= 3:\n",
    "                if check_is_part(lines, i, j - len(num), len(num)):\n",
    "                    #print(num)\n",
    "                    endres.append(int(num))\n",
    "            num = ''\n",
    "        if j + 1 > len(lines[i]) - 1:\n",
    "            if 1 <= len(num) <= 3:\n",
    "                if check_is_part(lines, i, j - len(num), len(num)):\n",
    "                    #print(num)\n",
    "                    endres.append(int(num))\n",
    "            num = ''"
   ]
  },
  {
   "cell_type": "code",
   "execution_count": 252,
   "id": "67368662",
   "metadata": {},
   "outputs": [
    {
     "data": {
      "text/plain": [
       "540212"
      ]
     },
     "execution_count": 252,
     "metadata": {},
     "output_type": "execute_result"
    }
   ],
   "source": [
    "sum(endres)"
   ]
  },
  {
   "cell_type": "code",
   "execution_count": null,
   "id": "0cdba8c5",
   "metadata": {},
   "outputs": [],
   "source": []
  },
  {
   "cell_type": "code",
   "execution_count": 263,
   "id": "46da9068",
   "metadata": {},
   "outputs": [],
   "source": [
    "def get_neighbouring_nums(arr, i, j):\n",
    "    directions = [(1, -1), (1, 0), (1, 1), (0, 1), (-1, 1), (-1, 0), (-1, -1), (0, -1)]\n",
    "    neighbours = []\n",
    "    last_num = ''\n",
    "    for di, dj in directions:\n",
    "        ni, nj = i + di, j + dj\n",
    "        if is_valid_pos(ni, nj, arr):\n",
    "            if lines[ni][nj].isnumeric():\n",
    "                if lines[ni][nj - 1].isnumeric():\n",
    "                    if lines[ni][nj - 2].isnumeric():\n",
    "                        if lines[ni][nj- 2:nj+1] != last_num:\n",
    "                            last_num = lines[ni][nj- 2:nj+1]\n",
    "                            neighbours.append(lines[ni][nj- 2:nj+1])\n",
    "                    elif lines[ni][nj + 1].isnumeric():\n",
    "                        if lines[ni][nj- 1:nj + 2] != last_num:\n",
    "                            last_num = lines[ni][nj- 1:nj + 2]\n",
    "                            neighbours.append(lines[ni][nj- 1:nj + 2])\n",
    "                    else:\n",
    "                        if lines[ni][nj- 1:nj+1] != last_num:\n",
    "                            last_num = lines[ni][nj- 1:nj+1]\n",
    "                            neighbours.append(lines[ni][nj- 1:nj+1])\n",
    "                elif lines[ni][nj + 1].isnumeric():\n",
    "                    if lines[ni][nj + 2].isnumeric():\n",
    "                        if lines[ni][nj:nj + 3] != last_num:\n",
    "                            last_num = lines[ni][nj:nj + 3]\n",
    "                            neighbours.append(lines[ni][nj:nj + 3])\n",
    "                    else:\n",
    "                        if lines[ni][nj:nj + 2] != last_num:\n",
    "                            last_num = lines[ni][nj:nj + 2]\n",
    "                            neighbours.append(lines[ni][nj:nj + 2])\n",
    "                else:\n",
    "                    neighbours.append(lines[ni][nj])\n",
    "            else:\n",
    "                last_num = ''\n",
    "    return neighbours"
   ]
  },
  {
   "cell_type": "code",
   "execution_count": 264,
   "id": "7e0281e3",
   "metadata": {},
   "outputs": [
    {
     "name": "stdout",
     "output_type": "stream",
     "text": [
      "87605697\n"
     ]
    }
   ],
   "source": [
    "endres2 = 0\n",
    "for i in range(len(lines)):\n",
    "    for j in range(len(lines[i])):\n",
    "        if lines[i][j] == '*':\n",
    "            neighbours = get_neighbouring_nums(lines, i, j)\n",
    "            if neighbours:\n",
    "                if len(neighbours) == 2:\n",
    "                    ratio = int(neighbours[0]) * int(neighbours[1])\n",
    "                    endres2 += ratio\n",
    "print(endres2)"
   ]
  }
 ],
 "metadata": {
  "kernelspec": {
   "display_name": "Python 3 (ipykernel)",
   "language": "python",
   "name": "python3"
  },
  "language_info": {
   "codemirror_mode": {
    "name": "ipython",
    "version": 3
   },
   "file_extension": ".py",
   "mimetype": "text/x-python",
   "name": "python",
   "nbconvert_exporter": "python",
   "pygments_lexer": "ipython3",
   "version": "3.9.13"
  }
 },
 "nbformat": 4,
 "nbformat_minor": 5
}
