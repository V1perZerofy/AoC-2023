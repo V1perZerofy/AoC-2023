{
 "cells": [
  {
   "cell_type": "code",
   "execution_count": 11,
   "id": "1303acdf",
   "metadata": {},
   "outputs": [],
   "source": [
    "with open(\"input/input4.txt\") as f:\n",
    "        lines = f.readlines()\n",
    "        lines = [x.strip() for x in lines]\n",
    "        f.close()"
   ]
  },
  {
   "cell_type": "code",
   "execution_count": null,
   "id": "ddb7208f",
   "metadata": {},
   "outputs": [],
   "source": []
  },
  {
   "cell_type": "code",
   "execution_count": 20,
   "id": "fe3ad671",
   "metadata": {},
   "outputs": [
    {
     "name": "stdout",
     "output_type": "stream",
     "text": [
      "19855\n"
     ]
    }
   ],
   "source": [
    "endres = 0\n",
    "for i in range(len(lines)):\n",
    "    relevant = lines[i].split(\":\")[1]\n",
    "    times, res = 0, 0\n",
    "    nums = relevant.split(\"|\")\n",
    "    winning_arr, nums_arr = nums[0].split(\" \"), nums[1].split(\" \")\n",
    "    nums_arr, winning_arr = [int(x) for x in nums_arr if x.isnumeric()], [int(x) for x in winning_arr if x.isnumeric()]\n",
    "    for x in nums_arr:\n",
    "        if x in winning_arr:\n",
    "            if times >= 1:\n",
    "                res = res * 2\n",
    "                times += 1\n",
    "            else:\n",
    "                times += 1\n",
    "                res += 1\n",
    "    endres += res\n",
    "print(endres)"
   ]
  },
  {
   "cell_type": "code",
   "execution_count": 33,
   "id": "fc95d5a7",
   "metadata": {},
   "outputs": [],
   "source": [
    "copys = [0 for x in range(len(lines))]\n",
    "for i in range(len(lines)):\n",
    "    res = 0\n",
    "    winning_arr = [int(x) for x in lines[i].split(\":\")[1].split(\"|\")[0].split() if x.isnumeric()]\n",
    "    nums_arr = [int(x) for x in lines[i].split(\":\")[1].split(\"|\")[1].split() if x.isnumeric()]\n",
    "    for x in nums_arr:\n",
    "        if x in winning_arr:\n",
    "            res += 1\n",
    "    for x in range(res):\n",
    "        if i + x < len(copys):\n",
    "            copys[i+x+1] = copys[i+x+1] + copys[i] + 1\n",
    "                \n",
    "endres = sum(copys) + len(lines)"
   ]
  },
  {
   "cell_type": "code",
   "execution_count": 34,
   "id": "89437519",
   "metadata": {},
   "outputs": [
    {
     "data": {
      "text/plain": [
       "10378710"
      ]
     },
     "execution_count": 34,
     "metadata": {},
     "output_type": "execute_result"
    }
   ],
   "source": [
    "endres"
   ]
  },
  {
   "cell_type": "code",
   "execution_count": null,
   "id": "0303e794",
   "metadata": {},
   "outputs": [],
   "source": [
    "len(lines)"
   ]
  },
  {
   "cell_type": "code",
   "execution_count": null,
   "id": "8304cc14",
   "metadata": {},
   "outputs": [],
   "source": []
  }
 ],
 "metadata": {
  "kernelspec": {
   "display_name": "Python 3 (ipykernel)",
   "language": "python",
   "name": "python3"
  },
  "language_info": {
   "codemirror_mode": {
    "name": "ipython",
    "version": 3
   },
   "file_extension": ".py",
   "mimetype": "text/x-python",
   "name": "python",
   "nbconvert_exporter": "python",
   "pygments_lexer": "ipython3",
   "version": "3.9.13"
  }
 },
 "nbformat": 4,
 "nbformat_minor": 5
}
